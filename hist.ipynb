{
 "cells": [
  {
   "cell_type": "code",
   "execution_count": null,
   "metadata": {},
   "outputs": [],
   "source": [
    "%pylab inline"
   ]
  },
  {
   "cell_type": "code",
   "execution_count": null,
   "metadata": {},
   "outputs": [],
   "source": [
    "fajl='photo1c1280x720'\n",
    "hist = loadtxt(fajl+'_hist_16.dat');\n",
    "kep = loadtxt(fajl+'.dat', dtype=uint8);\n",
    "mx = loadtxt(fajl+'_ujj_kep.dat', dtype=uint8);\n",
    "hist_orig = loadtxt(fajl+'_hist_256.dat');\n",
    "hist_uj = loadtxt(fajl+'_hist_256_u.dat');\n",
    "cumul_orig = loadtxt(fajl+'_kum_eredeti.dat');\n",
    "cumul_uj = loadtxt(fajl+'_kum_uj.dat');\n",
    "\n",
    "fig, ((ax1,ax2),(ax3,ax4),(ax5,ax6),(ax7,ax8)) = plt.subplots(4, 2, figsize=(18,20))\n",
    "ax1.bar(hist[:,0], hist[:,1], width=hist[1,0]-hist[0,0]);ax1.set_title('C solution');ax1.set_xlabel('pixel ertek');ax1.set_ylabel('darabszam');\n",
    "ax2.hist(kep, 16, (0, 255));ax2.set_title('Numpy solution');ax2.set_xlabel('pixel ertek');ax2.set_ylabel('darabszam');\n",
    "#\n",
    "ax3.axis('off');ax3.set_title('Eredeti kep');ax3.imshow(-resize(kep, (720, 1280)), cmap='Greys');\n",
    "ax4.axis('off');ax4.set_title('Normalizalt kep');ax4.imshow(-resize(mx, (720, 1280)), cmap='Greys');\n",
    "#\n",
    "ax5.set_xlabel('pixel ertek');ax5.set_ylabel('darabszam');ax5.set_title('Eredeti hisztogram');\n",
    "ax5.bar(hist_orig[:,0], hist_orig[:,1], width=hist_orig[1,0]-hist_orig[0,0]);\n",
    "ax6.set_xlabel('pixel ertek');ax6.set_ylabel('darabszam');ax6.set_title('Normalizalt hisztogram');\n",
    "ax6.bar(hist_uj[:,0], hist_uj[:,1], width=hist_uj[1,0]-hist_uj[0,0]);\n",
    "#\n",
    "ax7.set_xlabel('pixel ertek');ax7.set_ylabel('elemszam');ax7.set_title('Eredeti kumulativ eloszlas');\n",
    "ax7.plot(cumul_orig[:,0], cumul_orig[:,1]);\n",
    "ax8.set_xlabel('pixel ertek');ax8.set_ylabel('elemszam');ax8.set_title('Normalizalt kumulativ eloszlas');\n",
    "ax8.plot(cumul_uj[:,0], cumul_uj[:,1]);\n",
    "#\n",
    "plt.tight_layout()"
   ]
  },
  {
   "cell_type": "code",
   "execution_count": null,
   "metadata": {},
   "outputs": [],
   "source": [
    "fajl='photo2c1280x720'\n",
    "hist = loadtxt(fajl+'_hist_16.dat');\n",
    "kep = loadtxt(fajl+'.dat', dtype=uint8);\n",
    "mx = loadtxt(fajl+'_ujj_kep.dat', dtype=uint8);\n",
    "hist_orig = loadtxt(fajl+'_hist_256.dat');\n",
    "hist_uj = loadtxt(fajl+'_hist_256_u.dat');\n",
    "cumul_orig = loadtxt(fajl+'_kum_eredeti.dat');\n",
    "cumul_uj = loadtxt(fajl+'_kum_uj.dat');\n",
    "\n",
    "fig, ((ax1,ax2),(ax3,ax4),(ax5,ax6),(ax7,ax8)) = plt.subplots(4, 2, figsize=(18,20))\n",
    "ax1.bar(hist[:,0], hist[:,1], width=hist[1,0]-hist[0,0]);ax1.set_title('C solution');ax1.set_xlabel('pixel ertek');ax1.set_ylabel('darabszam');\n",
    "ax2.hist(kep, 16, (0, 255));ax2.set_title('Numpy solution');ax2.set_xlabel('pixel ertek');ax2.set_ylabel('darabszam');\n",
    "#\n",
    "ax3.axis('off');ax3.set_title('Eredeti kep');ax3.imshow(-resize(kep, (720, 1280)), cmap='Greys');\n",
    "ax4.axis('off');ax4.set_title('Normalizalt kep');ax4.imshow(-resize(mx, (720, 1280)), cmap='Greys');\n",
    "#\n",
    "ax5.set_xlabel('pixel ertek');ax5.set_ylabel('darabszam');ax5.set_title('Eredeti hisztogram');\n",
    "ax5.bar(hist_orig[:,0], hist_orig[:,1], width=hist_orig[1,0]-hist_orig[0,0]);\n",
    "ax6.set_xlabel('pixel ertek');ax6.set_ylabel('darabszam');ax6.set_title('Normalizalt hisztogram');\n",
    "ax6.bar(hist_uj[:,0], hist_uj[:,1], width=hist_uj[1,0]-hist_uj[0,0]);\n",
    "#\n",
    "ax7.set_xlabel('pixel ertek');ax7.set_ylabel('elemszam');ax7.set_title('Eredeti kumulativ eloszlas');\n",
    "ax7.plot(cumul_orig[:,0], cumul_orig[:,1]);\n",
    "ax8.set_xlabel('pixel ertek');ax8.set_ylabel('elemszam');ax8.set_title('Normalizalt kumulativ eloszlas');\n",
    "ax8.plot(cumul_uj[:,0], cumul_uj[:,1]);\n",
    "#\n",
    "plt.tight_layout()"
   ]
  },
  {
   "cell_type": "code",
   "execution_count": null,
   "metadata": {},
   "outputs": [],
   "source": [
    "fajl='secret1280x720'\n",
    "hist = loadtxt(fajl+'_hist_16.dat');\n",
    "kep = loadtxt(fajl+'.dat', dtype=uint8);\n",
    "mx = loadtxt(fajl+'_ujj_kep.dat', dtype=uint8);\n",
    "hist_orig = loadtxt(fajl+'_hist_256.dat');\n",
    "hist_uj = loadtxt(fajl+'_hist_256_u.dat');\n",
    "cumul_orig = loadtxt(fajl+'_kum_eredeti.dat');\n",
    "cumul_uj = loadtxt(fajl+'_kum_uj.dat');\n",
    "\n",
    "fig, ((ax1,ax2),(ax3,ax4),(ax5,ax6),(ax7,ax8)) = plt.subplots(4, 2, figsize=(18,20))\n",
    "ax1.bar(hist[:,0], hist[:,1], width=hist[1,0]-hist[0,0]);ax1.set_title('C solution');ax1.set_xlabel('pixel ertek');ax1.set_ylabel('darabszam');\n",
    "ax2.hist(kep, 16, (0, 255));ax2.set_title('Numpy solution');ax2.set_xlabel('pixel ertek');ax2.set_ylabel('darabszam');\n",
    "#\n",
    "ax3.axis('off');ax3.set_title('Eredeti kep');ax3.imshow(-resize(kep, (720, 1280)), cmap='Greys');\n",
    "ax4.axis('off');ax4.set_title('Normalizalt kep');ax4.imshow(-resize(mx, (720, 1280)), cmap='Greys');\n",
    "#\n",
    "ax5.set_xlabel('pixel ertek');ax5.set_ylabel('darabszam');ax5.set_title('Eredeti hisztogram');\n",
    "ax5.bar(hist_orig[:,0], hist_orig[:,1], width=hist_orig[1,0]-hist_orig[0,0]);\n",
    "ax6.set_xlabel('pixel ertek');ax6.set_ylabel('darabszam');ax6.set_title('Normalizalt hisztogram');\n",
    "ax6.bar(hist_uj[:,0], hist_uj[:,1], width=hist_uj[1,0]-hist_uj[0,0]);\n",
    "#\n",
    "ax7.set_xlabel('pixel ertek');ax7.set_ylabel('elemszam');ax7.set_title('Eredeti kumulativ eloszlas');\n",
    "ax7.plot(cumul_orig[:,0], cumul_orig[:,1]);\n",
    "ax8.set_xlabel('pixel ertek');ax8.set_ylabel('elemszam');ax8.set_title('Normalizalt kumulativ eloszlas');\n",
    "ax8.plot(cumul_uj[:,0], cumul_uj[:,1]);\n",
    "#\n",
    "plt.tight_layout()"
   ]
  },
  {
   "cell_type": "code",
   "execution_count": null,
   "metadata": {},
   "outputs": [],
   "source": [
    "im = resize(loadtxt( 'Auronzo1280x720rgb.dat',dtype=uint8),(720,1280,3))\n",
    "imm = resize(loadtxt( 'Auronzo1280x720rgb_new.dat',dtype=uint8),(720,1280,3))\n",
    "fig, (ax9,ax10) = plt.subplots(1,2, figsize=(12,7))\n",
    "ax9.axis('off')\n",
    "ax9.set_title('Eredeti kep')\n",
    "ax9.imshow(im)\n",
    "ax10.axis('off')\n",
    "ax10.set_title('Normalizalt kep')\n",
    "ax10.imshow(imm)\n",
    "plt.tight_layout()"
   ]
  },
  {
   "cell_type": "code",
   "execution_count": null,
   "metadata": {},
   "outputs": [],
   "source": [
    "im = resize(loadtxt( 'Braies1280x720rgb.dat',dtype=uint8),(720,1280,3))\n",
    "imm = resize(loadtxt( 'Braies1280x720rgb_new.dat',dtype=uint8),(720,1280,3))\n",
    "fig, (ax9,ax10) = plt.subplots(1,2, figsize=(12,7))\n",
    "ax9.axis('off')\n",
    "ax9.set_title('Eredeti kep')\n",
    "ax9.imshow(im)\n",
    "ax10.axis('off')\n",
    "ax10.set_title('Normalizalt kep')\n",
    "ax10.imshow(imm)\n",
    "plt.tight_layout()"
   ]
  }
 ],
 "metadata": {
  "kernelspec": {
   "display_name": "Python 3",
   "language": "python",
   "name": "python3"
  },
  "language_info": {
   "codemirror_mode": {
    "name": "ipython",
    "version": 3
   },
   "file_extension": ".py",
   "mimetype": "text/x-python",
   "name": "python",
   "nbconvert_exporter": "python",
   "pygments_lexer": "ipython3",
   "version": "3.8.5"
  }
 },
 "nbformat": 4,
 "nbformat_minor": 4
}
