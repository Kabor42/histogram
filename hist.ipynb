{
 "cells": [
  {
   "cell_type": "code",
   "execution_count": null,
   "metadata": {},
   "outputs": [],
   "source": [
    "%pylab inline\n",
    "hist = loadtxt('lena256x256_hist_16.dat')\n",
    "kep = loadtxt('lena256x256.dat', dtype=uint8)\n",
    "mx = loadtxt('fájlnév', dtype=uint8)\n",
    "print()"
   ]
  },
  {
   "cell_type": "code",
   "execution_count": null,
   "metadata": {},
   "outputs": [],
   "source": [
    "# Hist 16\n",
    "fig, (ax1,ax2) = plt.subplots(1,2, figsize=(10,4))\n",
    "ax1.bar(hist[:,0], hist[:,1], width=hist[1,0]-hist[0,0])\n",
    "ax1.set_title('C solution')\n",
    "ax2.hist(kep, 16, (0, 255))\n",
    "ax2.set_title('Numpy solution')\n",
    "\n",
    "plt.tight_layout()"
   ]
  },
  {
   "cell_type": "code",
   "execution_count": null,
   "metadata": {},
   "outputs": [],
   "source": [
    "# Images\n",
    "fig, (ax3,ax4) = plt.subplots(1,2, figsize=(12,7))\n",
    "ax3.axis('off')\n",
    "ax3.imshow(-resize(kep, (256, 256)), cmap='Greys')\n",
    "ax4.axis('off')\n",
    "ax4.imshow(-resize(mx, (256, 256)), cmap='Greys')\n",
    "plt.tight_layout()"
   ]
  },
  {
   "cell_type": "code",
   "execution_count": null,
   "metadata": {},
   "outputs": [],
   "source": [
    "# Hist 256\n",
    "hist_orig = loadtxt('lena256x256_hist_256.dat')\n",
    "hist_uj = loadtxt('lena256x256_hist_256_u.dat')\n",
    "fig, (ax5,ax6) = plt.subplots(1,2, figsize=(10,4))\n",
    "ax5.bar(hist_orig[:,0], hist_orig[:,1], width=hist_orig[1,0]-hist_orig[0,0])\n",
    "ax6.bar(hist_uj[:,0], hist_uj[:,1], width=hist_uj[1,0]-hist_uj[0,0])\n",
    "plt.tight_layout()"
   ]
  },
  {
   "cell_type": "code",
   "execution_count": null,
   "metadata": {},
   "outputs": [],
   "source": [
    "# Cum\n",
    "cumul_orig = loadtxt('lena256x256_kum_eredeti.dat')\n",
    "cumul_uj = loadtxt('lena256x256_kum_uj.dat')\n",
    "fig, (ax7,ax8) = plt.subplots(1,2, figsize=(10,4))\n",
    "ax7.plot(cumul_orig[:,0], cumul_orig[:,1])\n",
    "ax8.plot(cumul_uj[:,0], cumul_uj[:,1])\n",
    "plt.tight_layout()"
   ]
  },
  {
   "cell_type": "code",
   "execution_count": null,
   "metadata": {},
   "outputs": [],
   "source": [
    "rgb = loadtxt('2B525x311.dat', dtype=uint8)\n",
    "rgb_norm = loadtxt('2B525x311_new.dat', dtype=uint8)\n",
    "n_rgb = []\n",
    "index = 0\n",
    "for col in range(311):\n",
    "    line = []\n",
    "    for col in range(525):\n",
    "        line.append(rgb[index])\n",
    "        index+=1\n",
    "    n_rgb.append(line)\n",
    "\n",
    "n_rgb_norm = []\n",
    "index = 0\n",
    "for col in range(311):\n",
    "    line = []\n",
    "    for col in range(525):\n",
    "        line.append(rgb_norm[index])\n",
    "        index+=1\n",
    "    n_rgb_norm.append(line)\n",
    "        \n",
    "fig, (ax9,ax10) = plt.subplots(1,2, figsize=(10,4))\n",
    "ax9.imshow(n_rgb)\n",
    "ax10.imshow(n_rgb_norm)\n",
    "plt.tight_layout()"
   ]
  },
  {
   "cell_type": "code",
   "execution_count": null,
   "metadata": {},
   "outputs": [],
   "source": []
  }
 ],
 "metadata": {
  "kernelspec": {
   "display_name": "Python 3",
   "language": "python",
   "name": "python3"
  },
  "language_info": {
   "codemirror_mode": {
    "name": "ipython",
    "version": 3
   },
   "file_extension": ".py",
   "mimetype": "text/x-python",
   "name": "python",
   "nbconvert_exporter": "python",
   "pygments_lexer": "ipython3",
   "version": "3.6.9"
  }
 },
 "nbformat": 4,
 "nbformat_minor": 4
}
